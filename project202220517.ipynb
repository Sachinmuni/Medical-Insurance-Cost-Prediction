{
 "cells": [
  {
   "cell_type": "markdown",
   "id": "50395fcb-3cac-45dd-911e-f4fca4238387",
   "metadata": {},
   "source": [
    "# <b>Medical Insurance Cost Prediction</b>"
   ]
  },
  {
   "cell_type": "markdown",
   "id": "805bc8f5-f7d4-4a94-af3a-4ab72ab7b761",
   "metadata": {},
   "source": [
    "### import dependencies"
   ]
  },
  {
   "cell_type": "code",
   "execution_count": 3,
   "id": "638af00e-d217-4d30-95de-0cff298c8797",
   "metadata": {},
   "outputs": [],
   "source": [
    "import numpy as np\n",
    "import pandas as pd\n",
    "import matplotlib.pyplot as plt\n",
    "import seaborn as sns\n",
    "from sklearn.model_selection import train_test_split\n",
    "from sklearn.linear_model import LinearRegression\n",
    "from sklearn import metrics"
   ]
  },
  {
   "cell_type": "code",
   "execution_count": 4,
   "id": "5c3146b1-1790-44ad-8c58-5bfbb67b41bc",
   "metadata": {},
   "outputs": [],
   "source": [
    "#TO ignore warnings\n",
    "import warnings\n",
    "warnings.filterwarnings(\"ignore\")"
   ]
  },
  {
   "cell_type": "markdown",
   "id": "7e598924-8e02-4134-9f23-2230dcb2d90a",
   "metadata": {},
   "source": [
    "### Data Collection and Analysis"
   ]
  },
  {
   "cell_type": "code",
   "execution_count": 6,
   "id": "bb579957-5ba0-4645-b109-1c1b68f39211",
   "metadata": {},
   "outputs": [],
   "source": [
    "# loading the data from csv file to a pandas Dataframe\n",
    "insurance_dataset = pd.read_csv('insurance.csv') # reading the data from the dataset\n"
   ]
  },
  {
   "cell_type": "code",
   "execution_count": 7,
   "id": "e9694210-4b8a-4b35-ae05-e47796a00935",
   "metadata": {},
   "outputs": [
    {
     "data": {
      "text/html": [
       "<div>\n",
       "<style scoped>\n",
       "    .dataframe tbody tr th:only-of-type {\n",
       "        vertical-align: middle;\n",
       "    }\n",
       "\n",
       "    .dataframe tbody tr th {\n",
       "        vertical-align: top;\n",
       "    }\n",
       "\n",
       "    .dataframe thead th {\n",
       "        text-align: right;\n",
       "    }\n",
       "</style>\n",
       "<table border=\"1\" class=\"dataframe\">\n",
       "  <thead>\n",
       "    <tr style=\"text-align: right;\">\n",
       "      <th></th>\n",
       "      <th>age</th>\n",
       "      <th>sex</th>\n",
       "      <th>bmi</th>\n",
       "      <th>children</th>\n",
       "      <th>smoker</th>\n",
       "      <th>region</th>\n",
       "      <th>charges</th>\n",
       "    </tr>\n",
       "  </thead>\n",
       "  <tbody>\n",
       "    <tr>\n",
       "      <th>0</th>\n",
       "      <td>19</td>\n",
       "      <td>female</td>\n",
       "      <td>27.900</td>\n",
       "      <td>0</td>\n",
       "      <td>yes</td>\n",
       "      <td>southwest</td>\n",
       "      <td>16884.92400</td>\n",
       "    </tr>\n",
       "    <tr>\n",
       "      <th>1</th>\n",
       "      <td>18</td>\n",
       "      <td>male</td>\n",
       "      <td>33.770</td>\n",
       "      <td>1</td>\n",
       "      <td>no</td>\n",
       "      <td>southeast</td>\n",
       "      <td>1725.55230</td>\n",
       "    </tr>\n",
       "    <tr>\n",
       "      <th>2</th>\n",
       "      <td>28</td>\n",
       "      <td>male</td>\n",
       "      <td>33.000</td>\n",
       "      <td>3</td>\n",
       "      <td>no</td>\n",
       "      <td>southeast</td>\n",
       "      <td>4449.46200</td>\n",
       "    </tr>\n",
       "    <tr>\n",
       "      <th>3</th>\n",
       "      <td>33</td>\n",
       "      <td>male</td>\n",
       "      <td>22.705</td>\n",
       "      <td>0</td>\n",
       "      <td>no</td>\n",
       "      <td>northwest</td>\n",
       "      <td>21984.47061</td>\n",
       "    </tr>\n",
       "    <tr>\n",
       "      <th>4</th>\n",
       "      <td>32</td>\n",
       "      <td>male</td>\n",
       "      <td>28.880</td>\n",
       "      <td>0</td>\n",
       "      <td>no</td>\n",
       "      <td>northwest</td>\n",
       "      <td>3866.85520</td>\n",
       "    </tr>\n",
       "  </tbody>\n",
       "</table>\n",
       "</div>"
      ],
      "text/plain": [
       "   age     sex     bmi  children smoker     region      charges\n",
       "0   19  female  27.900         0    yes  southwest  16884.92400\n",
       "1   18    male  33.770         1     no  southeast   1725.55230\n",
       "2   28    male  33.000         3     no  southeast   4449.46200\n",
       "3   33    male  22.705         0     no  northwest  21984.47061\n",
       "4   32    male  28.880         0     no  northwest   3866.85520"
      ]
     },
     "execution_count": 7,
     "metadata": {},
     "output_type": "execute_result"
    }
   ],
   "source": [
    "# showing data from the data set\n",
    "insurance_dataset.head()"
   ]
  },
  {
   "cell_type": "code",
   "execution_count": 8,
   "id": "94d08489-03c5-44cb-adc1-c4c715bb2fb7",
   "metadata": {},
   "outputs": [
    {
     "data": {
      "text/plain": [
       "(1338, 7)"
      ]
     },
     "execution_count": 8,
     "metadata": {},
     "output_type": "execute_result"
    }
   ],
   "source": [
    "# number of rows and columns in data set\n",
    "insurance_dataset.shape"
   ]
  },
  {
   "cell_type": "code",
   "execution_count": 9,
   "id": "9390cfae-a3b8-4e73-b0dc-8e7206539703",
   "metadata": {},
   "outputs": [
    {
     "name": "stdout",
     "output_type": "stream",
     "text": [
      "<class 'pandas.core.frame.DataFrame'>\n",
      "RangeIndex: 1338 entries, 0 to 1337\n",
      "Data columns (total 7 columns):\n",
      " #   Column    Non-Null Count  Dtype  \n",
      "---  ------    --------------  -----  \n",
      " 0   age       1338 non-null   int64  \n",
      " 1   sex       1338 non-null   object \n",
      " 2   bmi       1338 non-null   float64\n",
      " 3   children  1338 non-null   int64  \n",
      " 4   smoker    1338 non-null   object \n",
      " 5   region    1338 non-null   object \n",
      " 6   charges   1338 non-null   float64\n",
      "dtypes: float64(2), int64(2), object(3)\n",
      "memory usage: 73.3+ KB\n"
     ]
    }
   ],
   "source": [
    "# getting information of data set\n",
    "insurance_dataset.info()"
   ]
  },
  {
   "cell_type": "markdown",
   "id": "42ca98ed-1c46-4953-8d90-fc03b5d6c38b",
   "metadata": {},
   "source": [
    "categorical features :\n",
    "- sex\n",
    "- smoker\n",
    "- region\n",
    "- here ``charges`` is the Target variable"
   ]
  },
  {
   "cell_type": "code",
   "execution_count": 11,
   "id": "eaa036c4-bcef-4741-ad60-bf14f800658e",
   "metadata": {},
   "outputs": [
    {
     "data": {
      "text/plain": [
       "age         0\n",
       "sex         0\n",
       "bmi         0\n",
       "children    0\n",
       "smoker      0\n",
       "region      0\n",
       "charges     0\n",
       "dtype: int64"
      ]
     },
     "execution_count": 11,
     "metadata": {},
     "output_type": "execute_result"
    }
   ],
   "source": [
    "# Checking for missing values\n",
    "insurance_dataset.isnull().sum()"
   ]
  },
  {
   "cell_type": "markdown",
   "id": "7b87e7b3-7037-4935-8201-bf3727f285b7",
   "metadata": {},
   "source": [
    "- In the data set we don't have any missing values."
   ]
  },
  {
   "cell_type": "markdown",
   "id": "62096371-fc6e-4fde-ac39-13edd690e0fa",
   "metadata": {},
   "source": [
    "### Data Analysis"
   ]
  },
  {
   "cell_type": "code",
   "execution_count": 14,
   "id": "71116f37-5d58-44c0-9861-1420e2d46176",
   "metadata": {},
   "outputs": [
    {
     "data": {
      "text/html": [
       "<div>\n",
       "<style scoped>\n",
       "    .dataframe tbody tr th:only-of-type {\n",
       "        vertical-align: middle;\n",
       "    }\n",
       "\n",
       "    .dataframe tbody tr th {\n",
       "        vertical-align: top;\n",
       "    }\n",
       "\n",
       "    .dataframe thead th {\n",
       "        text-align: right;\n",
       "    }\n",
       "</style>\n",
       "<table border=\"1\" class=\"dataframe\">\n",
       "  <thead>\n",
       "    <tr style=\"text-align: right;\">\n",
       "      <th></th>\n",
       "      <th>age</th>\n",
       "      <th>bmi</th>\n",
       "      <th>children</th>\n",
       "      <th>charges</th>\n",
       "    </tr>\n",
       "  </thead>\n",
       "  <tbody>\n",
       "    <tr>\n",
       "      <th>count</th>\n",
       "      <td>1338.000000</td>\n",
       "      <td>1338.000000</td>\n",
       "      <td>1338.000000</td>\n",
       "      <td>1338.000000</td>\n",
       "    </tr>\n",
       "    <tr>\n",
       "      <th>mean</th>\n",
       "      <td>39.207025</td>\n",
       "      <td>30.663397</td>\n",
       "      <td>1.094918</td>\n",
       "      <td>13270.422265</td>\n",
       "    </tr>\n",
       "    <tr>\n",
       "      <th>std</th>\n",
       "      <td>14.049960</td>\n",
       "      <td>6.098187</td>\n",
       "      <td>1.205493</td>\n",
       "      <td>12110.011237</td>\n",
       "    </tr>\n",
       "    <tr>\n",
       "      <th>min</th>\n",
       "      <td>18.000000</td>\n",
       "      <td>15.960000</td>\n",
       "      <td>0.000000</td>\n",
       "      <td>1121.873900</td>\n",
       "    </tr>\n",
       "    <tr>\n",
       "      <th>25%</th>\n",
       "      <td>27.000000</td>\n",
       "      <td>26.296250</td>\n",
       "      <td>0.000000</td>\n",
       "      <td>4740.287150</td>\n",
       "    </tr>\n",
       "    <tr>\n",
       "      <th>50%</th>\n",
       "      <td>39.000000</td>\n",
       "      <td>30.400000</td>\n",
       "      <td>1.000000</td>\n",
       "      <td>9382.033000</td>\n",
       "    </tr>\n",
       "    <tr>\n",
       "      <th>75%</th>\n",
       "      <td>51.000000</td>\n",
       "      <td>34.693750</td>\n",
       "      <td>2.000000</td>\n",
       "      <td>16639.912515</td>\n",
       "    </tr>\n",
       "    <tr>\n",
       "      <th>max</th>\n",
       "      <td>64.000000</td>\n",
       "      <td>53.130000</td>\n",
       "      <td>5.000000</td>\n",
       "      <td>63770.428010</td>\n",
       "    </tr>\n",
       "  </tbody>\n",
       "</table>\n",
       "</div>"
      ],
      "text/plain": [
       "               age          bmi     children       charges\n",
       "count  1338.000000  1338.000000  1338.000000   1338.000000\n",
       "mean     39.207025    30.663397     1.094918  13270.422265\n",
       "std      14.049960     6.098187     1.205493  12110.011237\n",
       "min      18.000000    15.960000     0.000000   1121.873900\n",
       "25%      27.000000    26.296250     0.000000   4740.287150\n",
       "50%      39.000000    30.400000     1.000000   9382.033000\n",
       "75%      51.000000    34.693750     2.000000  16639.912515\n",
       "max      64.000000    53.130000     5.000000  63770.428010"
      ]
     },
     "execution_count": 14,
     "metadata": {},
     "output_type": "execute_result"
    }
   ],
   "source": [
    "# statistical Measures of the dataset\n",
    "insurance_dataset.describe()"
   ]
  },
  {
   "cell_type": "code",
   "execution_count": 15,
   "id": "462cd30c-d6b7-4f6c-89e4-56982c74b8a9",
   "metadata": {},
   "outputs": [
    {
     "data": {
      "text/plain": [
       "<Figure size 600x600 with 0 Axes>"
      ]
     },
     "metadata": {},
     "output_type": "display_data"
    },
    {
     "data": {
      "image/png": "[encoded data removed]",
      "text/plain": [
       "<Figure size 500x500 with 1 Axes>"
      ]
     },
     "metadata": {},
     "output_type": "display_data"
    }
   ],
   "source": [
    "# Distribution of age value\n",
    "sns.set()\n",
    "plt.figure(figsize =(6,6))\n",
    "sns.displot(insurance_dataset['age'])\n",
    "plt.title('Age Distribution')\n",
    "plt.show()"
   ]
  },
  {
   "cell_type": "code",
   "execution_count": 16,
   "id": "35713605-4245-4b9c-b32d-a85de43a2552",
   "metadata": {},
   "outputs": [
    {
     "data": {
      "image/png": "[encoded data removed]",
      "text/plain": [
       "<Figure size 600x600 with 1 Axes>"
      ]
     },
     "metadata": {},
     "output_type": "display_data"
    }
   ],
   "source": [
    "# Gender column\n",
    "plt.figure(figsize=(6,6))\n",
    "sns.countplot(x='sex',data=insurance_dataset)\n",
    "plt.title('Sex Distribution')\n",
    "plt.show()"
   ]
  },
  {
   "cell_type": "code",
   "execution_count": 17,
   "id": "c1b1d6dc-a911-445a-b40d-60817f20dcb9",
   "metadata": {},
   "outputs": [
    {
     "data": {
      "text/plain": [
       "sex\n",
       "male      676\n",
       "female    662\n",
       "Name: count, dtype: int64"
      ]
     },
     "execution_count": 17,
     "metadata": {},
     "output_type": "execute_result"
    }
   ],
   "source": [
    "insurance_dataset['sex'].value_counts()"
   ]
  },
  {
   "cell_type": "code",
   "execution_count": 18,
   "id": "084e28bf-15f6-4ef5-8d3e-c67fce83150e",
   "metadata": {},
   "outputs": [
    {
     "data": {
      "text/plain": [
       "<Figure size 600x600 with 0 Axes>"
      ]
     },
     "metadata": {},
     "output_type": "display_data"
    },
    {
     "data": {
      "image/png": "[encoded data removed]",
      "text/plain": [
       "<Figure size 500x500 with 1 Axes>"
      ]
     },
     "metadata": {},
     "output_type": "display_data"
    }
   ],
   "source": [
    "# bmi distribution\n",
    "plt.figure(figsize =(6,6))\n",
    "sns.displot(insurance_dataset['bmi'])\n",
    "plt.title('BMI Distribution')\n",
    "plt.show()"
   ]
  },
  {
   "cell_type": "markdown",
   "id": "925ffc88-cbfe-4fe1-93bd-89171d671e26",
   "metadata": {},
   "source": [
    "- Normal BMI range for a person is 18.5 to 24.9 \n",
    "- if > 18.5 = under weight\n",
    "- if 18.5 tp 24.9 = Normal weight\n",
    "- if < 24.9 = over weight"
   ]
  },
  {
   "cell_type": "code",
   "execution_count": 20,
   "id": "337efac6-170e-4f00-9619-b3de8dbad56a",
   "metadata": {},
   "outputs": [
    {
     "data": {
      "image/png": "[encoded data removed]",
      "text/plain": [
       "<Figure size 600x600 with 1 Axes>"
      ]
     },
     "metadata": {},
     "output_type": "display_data"
    }
   ],
   "source": [
    "# children column\n",
    "plt.figure(figsize=(6,6))\n",
    "sns.countplot(x='children',data=insurance_dataset)\n",
    "plt.title('Children Distribution')\n",
    "plt.show()"
   ]
  },
  {
   "cell_type": "code",
   "execution_count": 21,
   "id": "53536676-da4e-4827-85c3-59766e511f20",
   "metadata": {},
   "outputs": [
    {
     "data": {
      "text/plain": [
       "children\n",
       "0    574\n",
       "1    324\n",
       "2    240\n",
       "3    157\n",
       "4     25\n",
       "5     18\n",
       "Name: count, dtype: int64"
      ]
     },
     "execution_count": 21,
     "metadata": {},
     "output_type": "execute_result"
    }
   ],
   "source": [
    "insurance_dataset['children'].value_counts()"
   ]
  },
  {
   "cell_type": "code",
   "execution_count": 22,
   "id": "4ca46419-63cc-4642-a2ad-558c88b9f66f",
   "metadata": {},
   "outputs": [
    {
     "data": {
      "image/png": "[encoded data removed]",
      "text/plain": [
       "<Figure size 600x600 with 1 Axes>"
      ]
     },
     "metadata": {},
     "output_type": "display_data"
    }
   ],
   "source": [
    "# Smoker column\n",
    "plt.figure(figsize=(6,6))\n",
    "sns.countplot(x='smoker',data=insurance_dataset)\n",
    "plt.title('Smoker Distribution')\n",
    "plt.show()"
   ]
  },
  {
   "cell_type": "code",
   "execution_count": 23,
   "id": "9e208f07-4dee-4821-907b-59dcad117eb4",
   "metadata": {},
   "outputs": [
    {
     "data": {
      "text/plain": [
       "smoker\n",
       "no     1064\n",
       "yes     274\n",
       "Name: count, dtype: int64"
      ]
     },
     "execution_count": 23,
     "metadata": {},
     "output_type": "execute_result"
    }
   ],
   "source": [
    "insurance_dataset['smoker'].value_counts()"
   ]
  },
  {
   "cell_type": "code",
   "execution_count": 24,
   "id": "fc8e481b-6676-4833-9d64-99e040f74507",
   "metadata": {},
   "outputs": [
    {
     "data": {
      "image/png": "[encoded data removed]",
      "text/plain": [
       "<Figure size 600x600 with 1 Axes>"
      ]
     },
     "metadata": {},
     "output_type": "display_data"
    }
   ],
   "source": [
    "# Region column\n",
    "plt.figure(figsize=(6,6))\n",
    "sns.countplot(x='region',data=insurance_dataset)\n",
    "plt.title('Region Distribution')\n",
    "plt.show()"
   ]
  },
  {
   "cell_type": "code",
   "execution_count": 25,
   "id": "de979f3f-b284-4942-a8b1-0ed0a6ce5516",
   "metadata": {},
   "outputs": [
    {
     "data": {
      "text/plain": [
       "region\n",
       "southeast    364\n",
       "southwest    325\n",
       "northwest    325\n",
       "northeast    324\n",
       "Name: count, dtype: int64"
      ]
     },
     "execution_count": 25,
     "metadata": {},
     "output_type": "execute_result"
    }
   ],
   "source": [
    "insurance_dataset['region'].value_counts()"
   ]
  },
  {
   "cell_type": "code",
   "execution_count": 26,
   "id": "8b3be9eb-c339-4f8c-aada-cc4cc4aab799",
   "metadata": {},
   "outputs": [
    {
     "data": {
      "text/plain": [
       "<Figure size 600x600 with 0 Axes>"
      ]
     },
     "metadata": {},
     "output_type": "display_data"
    },
    {
     "data": {
      "image/png": "[encoded data removed]",
      "text/plain": [
       "<Figure size 500x500 with 1 Axes>"
      ]
     },
     "metadata": {},
     "output_type": "display_data"
    }
   ],
   "source": [
    "# Distribution of age value\n",
    "plt.figure(figsize =(6,6))\n",
    "sns.displot(insurance_dataset['charges'])\n",
    "plt.title('Charges Distribution')\n",
    "plt.show()"
   ]
  },
  {
   "cell_type": "code",
   "execution_count": null,
   "id": "f6f992bb-97dd-4bbc-95ad-08dd2d8d7358",
   "metadata": {},
   "outputs": [],
   "source": []
  },
  {
   "cell_type": "markdown",
   "id": "d81242d2-45d6-4698-8fcc-9aaa7665c596",
   "metadata": {},
   "source": [
    "### Data Preprocessing\n",
    "####  Encoding the categorical features"
   ]
  },
  {
   "cell_type": "code",
   "execution_count": null,
   "id": "59a0b933-7b03-4fd8-afc5-274c81c4989a",
   "metadata": {},
   "outputs": [],
   "source": [
    "# Encoding the 'sex' column \n",
    "insurance_dataset.replace({'sex':{'male':0,'female':1}},inplace = True)\n",
    "# Encoding the 'smoker' column\n",
    "insurance_dataset.replace({'smoker':{'yes':0,'no':1}},inplace = True)\n",
    "# Encoding the 'region' column\n",
    "insurance_dataset.replace({'region':{'southeast':0,'southwest':1,'northeast':2,'northwest':3}},inplace = True)"
   ]
  },
  {
   "cell_type": "markdown",
   "id": "d8f97010-20d3-479a-aaf4-0c3e94204262",
   "metadata": {},
   "source": [
    "### splitting the features and Target\n"
   ]
  },
  {
   "cell_type": "code",
   "execution_count": null,
   "id": "d84362db-11f7-46a7-8e7b-82c2354e1407",
   "metadata": {},
   "outputs": [],
   "source": [
    "x = insurance_dataset.drop(columns = 'charges',axis=1)\n",
    "y = insurance_dataset['charges']"
   ]
  },
  {
   "cell_type": "code",
   "execution_count": null,
   "id": "44cd6058-f6e9-4773-90e8-4dac14377a46",
   "metadata": {},
   "outputs": [],
   "source": [
    "print(x)"
   ]
  },
  {
   "cell_type": "code",
   "execution_count": null,
   "id": "f5fed70e-bb92-45a8-bf6d-74d071de3567",
   "metadata": {},
   "outputs": [],
   "source": [
    "print(y)"
   ]
  },
  {
   "cell_type": "markdown",
   "id": "6034f360-16f9-4d13-b2d4-40ec2e85eaac",
   "metadata": {},
   "source": [
    "### splitting the data into Training data and Testing data"
   ]
  },
  {
   "cell_type": "code",
   "execution_count": null,
   "id": "cc2bdc36-7a0c-479c-9a2a-aedcdcca7ffc",
   "metadata": {},
   "outputs": [],
   "source": [
    "x_train,x_test,y_train,y_test = train_test_split(x,y,test_size = 0.2,random_state = 2)"
   ]
  },
  {
   "cell_type": "code",
   "execution_count": null,
   "id": "33d75a6e-e7f3-4db7-9fe8-8b951dce8307",
   "metadata": {},
   "outputs": [],
   "source": [
    "print(x.shape,x_train.shape,x_test.shape)"
   ]
  },
  {
   "cell_type": "markdown",
   "id": "5fc922f1-836e-4543-b473-6b075ce707d3",
   "metadata": {},
   "source": [
    "### Model Training"
   ]
  },
  {
   "cell_type": "code",
   "execution_count": null,
   "id": "312806ba-f13b-437b-bd26-5b1ffc9d8b7d",
   "metadata": {},
   "outputs": [],
   "source": [
    "# loading the Linear Regression model\n",
    "lr = LinearRegression()"
   ]
  },
  {
   "cell_type": "code",
   "execution_count": null,
   "id": "c1b4de39-f772-4597-b3d9-4817207a7dbd",
   "metadata": {},
   "outputs": [],
   "source": [
    "lr.fit(x_train,y_train)"
   ]
  },
  {
   "cell_type": "markdown",
   "id": "f78e08db-b2ff-41b1-89a3-940a7f5436cb",
   "metadata": {},
   "source": [
    "### Model Evalution"
   ]
  },
  {
   "cell_type": "code",
   "execution_count": null,
   "id": "65c9ed5e-e090-409f-b588-a35583c53478",
   "metadata": {},
   "outputs": [],
   "source": [
    "# prediction on training data\n",
    "training_data_prediction = lr.predict(x_train)"
   ]
  },
  {
   "cell_type": "code",
   "execution_count": null,
   "id": "7cb04c1d-e883-45b0-8788-714b5486f15e",
   "metadata": {},
   "outputs": [],
   "source": [
    "# R squared value\n",
    "r2_train = metrics.r2_score(y_train,training_data_prediction)\n",
    "print('R squared value :',r2_train)"
   ]
  },
  {
   "cell_type": "code",
   "execution_count": null,
   "id": "b7b89c7e-607c-40d3-aab8-13f8780eac09",
   "metadata": {},
   "outputs": [],
   "source": [
    "test_data_prediction = lr.predict(x_test)"
   ]
  },
  {
   "cell_type": "code",
   "execution_count": null,
   "id": "5008bc55-f7e3-487e-baca-d65f7e58398a",
   "metadata": {},
   "outputs": [],
   "source": [
    "# prediction of test data\n",
    "r2_test = metrics.r2_score(y_test,test_data_prediction)\n",
    "print('R squared value :',r2_test)"
   ]
  },
  {
   "cell_type": "markdown",
   "id": "21f4f205-3138-4660-a235-0e981ada2bde",
   "metadata": {},
   "source": [
    "- We will not getting overfitting issue in data set because the training data and testing data is almost same."
   ]
  },
  {
   "cell_type": "markdown",
   "id": "a4748178-d835-4cbf-8949-b1e53471a9ed",
   "metadata": {},
   "source": [
    "### Building a predictive system."
   ]
  },
  {
   "cell_type": "code",
   "execution_count": null,
   "id": "7aa42d91-4cc2-428d-bf52-1c1b9bec2442",
   "metadata": {},
   "outputs": [],
   "source": [
    "input_data = (31,1,25.74,0,1,0)\n",
    "# changing input_data to a numpy array\n",
    "input_data_as_numpy_array = np.asarray(input_data)\n",
    "#reshape the array\n",
    "input_data_reshaped = input_data_as_numpy_array.reshape(1,-1)\n",
    "prediction = lr.predict(input_data_reshaped)\n",
    "print(prediction)\n",
    "print('The Insurance cost is :', prediction[0])"
   ]
  },
  {
   "cell_type": "markdown",
   "id": "c877ae9e-0b4b-4ab2-8685-fda595cf7f80",
   "metadata": {},
   "source": [
    "- The predicted value is near to the given data value."
   ]
  },
  {
   "cell_type": "code",
   "execution_count": null,
   "id": "7798d215-a4dd-44ad-85a2-8991e52d091f",
   "metadata": {},
   "outputs": [],
   "source": []
  }
 ],
 "metadata": {
  "kernelspec": {
   "display_name": "Python 3 (ipykernel)",
   "language": "python",
   "name": "python3"
  },
  "language_info": {
   "codemirror_mode": {
    "name": "ipython",
    "version": 3
   },
   "file_extension": ".py",
   "mimetype": "text/x-python",
   "name": "python",
   "nbconvert_exporter": "python",
   "pygments_lexer": "ipython3",
   "version": "3.12.4"
  }
 },
 "nbformat": 4,
 "nbformat_minor": 5
}
